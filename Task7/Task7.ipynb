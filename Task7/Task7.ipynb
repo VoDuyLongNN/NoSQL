{
 "cells": [
  {
   "cell_type": "code",
   "execution_count": 1,
   "metadata": {},
   "outputs": [],
   "source": [
    "from py2neo import Graph\n",
    "\n",
    "g = Graph('bolt://localhost:7687')"
   ]
  },
  {
   "cell_type": "markdown",
   "metadata": {},
   "source": [
    "Câu a"
   ]
  },
  {
   "cell_type": "code",
   "execution_count": 2,
   "metadata": {},
   "outputs": [
    {
     "data": {
      "text/plain": [
       "'Võ Duy Long'"
      ]
     },
     "execution_count": 2,
     "metadata": {},
     "output_type": "execute_result"
    }
   ],
   "source": [
    "id = '4351051093'\n",
    "\n",
    "g.run('MATCH (s:SinhVien) WHERE s.maSV = $ht RETURN s.hoTen', ht = id).evaluate()"
   ]
  },
  {
   "cell_type": "markdown",
   "metadata": {},
   "source": [
    "Câu b"
   ]
  },
  {
   "cell_type": "code",
   "execution_count": 3,
   "metadata": {},
   "outputs": [
    {
     "data": {
      "text/plain": [
       "[{'n.tenNganh': 'Sư phạm Khoa học tự nhiên'},\n",
       " {'n.tenNganh': 'Sư phạm Lịch sử Địa lý'},\n",
       " {'n.tenNganh': 'Sư phạm Vật lý'},\n",
       " {'n.tenNganh': 'Sư phạm Toán học'},\n",
       " {'n.tenNganh': 'Sư phạm Tin học'},\n",
       " {'n.tenNganh': 'Sư phạm Tiếng Anh'},\n",
       " {'n.tenNganh': 'Sư phạm Sinh học'},\n",
       " {'n.tenNganh': 'Sư phạm Ngữ văn'},\n",
       " {'n.tenNganh': 'Sư phạm Lịch sử'},\n",
       " {'n.tenNganh': 'Sư phạm Hoá học'},\n",
       " {'n.tenNganh': 'Sư phạm Địa lý'}]"
      ]
     },
     "execution_count": 3,
     "metadata": {},
     "output_type": "execute_result"
    }
   ],
   "source": [
    "tenKhoa = 'Sư phạm'\n",
    "\n",
    "g.run('MATCH (n:Nganh)-[:THUOC]->(k:Khoa) WHERE k.tenKhoa = $tk RETURN n.tenNganh', tk = tenKhoa).data()"
   ]
  },
  {
   "cell_type": "markdown",
   "metadata": {},
   "source": [
    "Câu c"
   ]
  },
  {
   "cell_type": "code",
   "execution_count": 4,
   "metadata": {},
   "outputs": [
    {
     "data": {
      "text/plain": [
       "[{'t.tenTinh': 'Bà Rịa-Vũng Tàu', 'SL': 2},\n",
       " {'t.tenTinh': 'Bình Định', 'SL': 1438},\n",
       " {'t.tenTinh': 'Gia Lai', 'SL': 129},\n",
       " {'t.tenTinh': 'Khánh Hòa', 'SL': 1},\n",
       " {'t.tenTinh': 'Lâm Đồng', 'SL': 2},\n",
       " {'t.tenTinh': 'Nghệ An', 'SL': 11},\n",
       " {'t.tenTinh': 'Ninh Thuận', 'SL': 6},\n",
       " {'t.tenTinh': 'Bình Định', 'SL': 1593},\n",
       " {'t.tenTinh': 'Quảng Nam', 'SL': 9},\n",
       " {'t.tenTinh': 'Quảng Ngãi', 'SL': 75},\n",
       " {'t.tenTinh': 'Tp. Hồ Chí Minh', 'SL': 4}]"
      ]
     },
     "execution_count": 4,
     "metadata": {},
     "output_type": "execute_result"
    }
   ],
   "source": [
    "g.run('MATCH (s:SinhVien)-[:QUEQUAN]->(t:Tinh) WITH t, COUNT(s) AS SL RETURN t.tenTinh, SL').data()"
   ]
  },
  {
   "cell_type": "markdown",
   "metadata": {},
   "source": [
    "Câu d"
   ]
  },
  {
   "cell_type": "code",
   "execution_count": 5,
   "metadata": {},
   "outputs": [
    {
     "data": {
      "text/plain": [
       "[{'s2.hoTen': 'Hồ Cường Thịnh', 'tr.tenTruong': 'THPT Trưng Vương'},\n",
       " {'s2.hoTen': 'LÊ SINH HÙNG', 'tr.tenTruong': 'THPT Trưng Vương'},\n",
       " {'s2.hoTen': 'Trương Hoàng Phương', 'tr.tenTruong': 'THPT Trưng Vương'},\n",
       " {'s2.hoTen': 'Nguyễn Trần Thanh Thùy', 'tr.tenTruong': 'THPT Trưng Vương'},\n",
       " {'s2.hoTen': 'Nguyễn Ngọc Minh Thảo', 'tr.tenTruong': 'THPT Trưng Vương'},\n",
       " {'s2.hoTen': 'Lê Trần Nhã Trâm', 'tr.tenTruong': 'THPT Trưng Vương'},\n",
       " {'s2.hoTen': 'Hồ Thị Xuân Diệu', 'tr.tenTruong': 'THPT Trưng Vương'},\n",
       " {'s2.hoTen': 'Võ Hải Quyền', 'tr.tenTruong': 'THPT Trưng Vương'},\n",
       " {'s2.hoTen': 'Đặng Phi Long', 'tr.tenTruong': 'THPT Trưng Vương'},\n",
       " {'s2.hoTen': 'Phạm Diễm Thi', 'tr.tenTruong': 'THPT Trưng Vương'},\n",
       " {'s2.hoTen': 'Phạm Gia Nghĩa', 'tr.tenTruong': 'THPT Trưng Vương'},\n",
       " {'s2.hoTen': 'Cao Nguyễn Hiếu Thiện', 'tr.tenTruong': 'THPT Trưng Vương'},\n",
       " {'s2.hoTen': 'Phan Nguyên Khải', 'tr.tenTruong': 'THPT Trưng Vương'},\n",
       " {'s2.hoTen': 'Nguyễn Huỳnh Diễm Phương', 'tr.tenTruong': 'THPT Trưng Vương'},\n",
       " {'s2.hoTen': 'Nguyễn Thúy Hằng', 'tr.tenTruong': 'THPT Trưng Vương'},\n",
       " {'s2.hoTen': 'Võ Như Thảo Vy', 'tr.tenTruong': 'THPT Trưng Vương'},\n",
       " {'s2.hoTen': 'Đặng Trần Tố Nhi', 'tr.tenTruong': 'THPT Trưng Vương'},\n",
       " {'s2.hoTen': 'Ngô Thảo An Hoà', 'tr.tenTruong': 'THPT Trưng Vương'},\n",
       " {'s2.hoTen': 'Nguyễn Thị Thu Hà', 'tr.tenTruong': 'THPT Trưng Vương'},\n",
       " {'s2.hoTen': 'Khúc Bảo Châu', 'tr.tenTruong': 'THPT Trưng Vương'},\n",
       " {'s2.hoTen': 'Nguyễn Trần Lan Anh', 'tr.tenTruong': 'THPT Trưng Vương'},\n",
       " {'s2.hoTen': 'Lã Tuấn Kiệt', 'tr.tenTruong': 'THPT Trưng Vương'},\n",
       " {'s2.hoTen': 'Nguyễn Minh Tuấn', 'tr.tenTruong': 'THPT Trưng Vương'},\n",
       " {'s2.hoTen': 'Lê Thị Mười', 'tr.tenTruong': 'THPT Trưng Vương'},\n",
       " {'s2.hoTen': 'Đỗ Thanh Thảo', 'tr.tenTruong': 'THPT Trưng Vương'},\n",
       " {'s2.hoTen': 'TRƯƠNG LỰC', 'tr.tenTruong': 'THPT Trưng Vương'},\n",
       " {'s2.hoTen': 'Nguyễn Huỳnh Khánh Hà', 'tr.tenTruong': 'THPT Trưng Vương'},\n",
       " {'s2.hoTen': 'Văn Thế Phương', 'tr.tenTruong': 'THPT Trưng Vương'},\n",
       " {'s2.hoTen': 'Huỳnh Thị Thùy Như', 'tr.tenTruong': 'THPT Trưng Vương'},\n",
       " {'s2.hoTen': 'Phạm Quốc Bảo', 'tr.tenTruong': 'THPT Trưng Vương'},\n",
       " {'s2.hoTen': 'Trần Thị Thúy Kiều', 'tr.tenTruong': 'THPT Trưng Vương'},\n",
       " {'s2.hoTen': 'Đinh Quốc Long', 'tr.tenTruong': 'THPT Trưng Vương'},\n",
       " {'s2.hoTen': 'Đoàn Thị Bích Duyên', 'tr.tenTruong': 'THPT Trưng Vương'},\n",
       " {'s2.hoTen': 'Nguyễn Cửu Bảo Hân', 'tr.tenTruong': 'THPT Trưng Vương'},\n",
       " {'s2.hoTen': 'Mai Võ Thành Nhơn', 'tr.tenTruong': 'THPT Trưng Vương'},\n",
       " {'s2.hoTen': 'Phan Thị Thùy Kim', 'tr.tenTruong': 'THPT Trưng Vương'},\n",
       " {'s2.hoTen': 'Lê Nguyễn Trúc Quỳnh', 'tr.tenTruong': 'THPT Trưng Vương'},\n",
       " {'s2.hoTen': 'Trần Khánh Linh', 'tr.tenTruong': 'THPT Trưng Vương'},\n",
       " {'s2.hoTen': 'Trương Đặng Minh Đạt', 'tr.tenTruong': 'THPT Trưng Vương'},\n",
       " {'s2.hoTen': 'Lê Nguyễn Thu Ngân', 'tr.tenTruong': 'THPT Trưng Vương'},\n",
       " {'s2.hoTen': 'Nguyễn Phi Nhung', 'tr.tenTruong': 'THPT Trưng Vương'},\n",
       " {'s2.hoTen': 'Trần Ngọc Duy Quyên', 'tr.tenTruong': 'THPT Trưng Vương'},\n",
       " {'s2.hoTen': 'Nguyễn Thanh Sơn', 'tr.tenTruong': 'THPT Trưng Vương'},\n",
       " {'s2.hoTen': 'Lương Tú Anh', 'tr.tenTruong': 'THPT Trưng Vương'},\n",
       " {'s2.hoTen': 'Trần Hạ Linh', 'tr.tenTruong': 'THPT Trưng Vương'},\n",
       " {'s2.hoTen': 'Nguyễn Văn Nguyên', 'tr.tenTruong': 'THPT Trưng Vương'},\n",
       " {'s2.hoTen': 'Trần Anh Tuấn', 'tr.tenTruong': 'THPT Trưng Vương'},\n",
       " {'s2.hoTen': 'Nguyễn lê hoàng Tân', 'tr.tenTruong': 'THPT Trưng Vương'},\n",
       " {'s2.hoTen': 'Bùi Thị Kim Chi', 'tr.tenTruong': 'THPT Trưng Vương'},\n",
       " {'s2.hoTen': 'Trần Hoàng Tuyết Sương', 'tr.tenTruong': 'THPT Trưng Vương'},\n",
       " {'s2.hoTen': 'Đặng Gia Huy', 'tr.tenTruong': 'THPT Trưng Vương'},\n",
       " {'s2.hoTen': 'Châu Mai trúc', 'tr.tenTruong': 'THPT Trưng Vương'},\n",
       " {'s2.hoTen': 'Lê Anh Tuấn', 'tr.tenTruong': 'THPT Trưng Vương'},\n",
       " {'s2.hoTen': 'Nguyễn Trình Như Ý', 'tr.tenTruong': 'THPT Trưng Vương'},\n",
       " {'s2.hoTen': 'LÊ HỮU NGHĨA', 'tr.tenTruong': 'THPT Trưng Vương'},\n",
       " {'s2.hoTen': 'Đỗ Thanh Hiếu', 'tr.tenTruong': 'THPT Trưng Vương'},\n",
       " {'s2.hoTen': 'Nguyễn Hương Ly', 'tr.tenTruong': 'THPT Trưng Vương'},\n",
       " {'s2.hoTen': 'Võ Thuỳ Chi', 'tr.tenTruong': 'THPT Trưng Vương'},\n",
       " {'s2.hoTen': 'Phùng Phan Thái Hữu', 'tr.tenTruong': 'THPT Trưng Vương'},\n",
       " {'s2.hoTen': 'Nguyễn Nhật Gia Hân', 'tr.tenTruong': 'THPT Trưng Vương'},\n",
       " {'s2.hoTen': 'Hàn Quốc Trung', 'tr.tenTruong': 'THPT Trưng Vương'},\n",
       " {'s2.hoTen': 'Hồ Sĩ Bách', 'tr.tenTruong': 'THPT Trưng Vương'},\n",
       " {'s2.hoTen': 'Nguyễn duy Trường', 'tr.tenTruong': 'THPT Trưng Vương'},\n",
       " {'s2.hoTen': 'Nguyễn Bá Cường', 'tr.tenTruong': 'THPT Trưng Vương'},\n",
       " {'s2.hoTen': 'Phạm Bích Ngà', 'tr.tenTruong': 'THPT Trưng Vương'},\n",
       " {'s2.hoTen': 'Trần Kiều My', 'tr.tenTruong': 'THPT Trưng Vương'},\n",
       " {'s2.hoTen': 'Võ Văn Hưng', 'tr.tenTruong': 'THPT Trưng Vương'},\n",
       " {'s2.hoTen': 'Huỳnh Ngọc Huyền', 'tr.tenTruong': 'THPT Trưng Vương'},\n",
       " {'s2.hoTen': 'Nguyễn Thị Hải Như', 'tr.tenTruong': 'THPT Trưng Vương'},\n",
       " {'s2.hoTen': 'Nguyễn Thanh Hương', 'tr.tenTruong': 'THPT Trưng Vương'},\n",
       " {'s2.hoTen': 'Vũ Trúc Quỳnh', 'tr.tenTruong': 'THPT Trưng Vương'},\n",
       " {'s2.hoTen': 'Đặng Tuyết Nhung', 'tr.tenTruong': 'THPT Trưng Vương'},\n",
       " {'s2.hoTen': 'Nguyễn Thị Phương Mai', 'tr.tenTruong': 'THPT Trưng Vương'},\n",
       " {'s2.hoTen': 'Nguyễn Huỳnh Gia Hào', 'tr.tenTruong': 'THPT Trưng Vương'},\n",
       " {'s2.hoTen': 'Hồ Thị Như Quỳnh', 'tr.tenTruong': 'THPT Trưng Vương'},\n",
       " {'s2.hoTen': 'Phan Lê Hữu Tín', 'tr.tenTruong': 'THPT Trưng Vương'},\n",
       " {'s2.hoTen': 'Đặng Bảo Ngọc', 'tr.tenTruong': 'THPT Trưng Vương'},\n",
       " {'s2.hoTen': 'Trần Thanh Huy', 'tr.tenTruong': 'THPT Trưng Vương'},\n",
       " {'s2.hoTen': 'Nguyễn Hoàng Long', 'tr.tenTruong': 'THPT Trưng Vương'},\n",
       " {'s2.hoTen': 'Nguyễn Trúc Vi', 'tr.tenTruong': 'THPT Trưng Vương'},\n",
       " {'s2.hoTen': 'Trần Minh Khải', 'tr.tenTruong': 'THPT Trưng Vương'},\n",
       " {'s2.hoTen': 'Huỳnh Quang Nhật', 'tr.tenTruong': 'THPT Trưng Vương'},\n",
       " {'s2.hoTen': 'Võ Hương Ly', 'tr.tenTruong': 'THPT Trưng Vương'},\n",
       " {'s2.hoTen': 'Nguyễn Phương Thảo', 'tr.tenTruong': 'THPT Trưng Vương'},\n",
       " {'s2.hoTen': 'Nguyễn Trần Trọng Nhân', 'tr.tenTruong': 'THPT Trưng Vương'}]"
      ]
     },
     "execution_count": 5,
     "metadata": {},
     "output_type": "execute_result"
    }
   ],
   "source": [
    "maSV = '4351010105'\n",
    "\n",
    "g.run('MATCH (s:SinhVien {maSV: $ma})-[:HOCPT]->(tr:TruongPT) MATCH (s2:SinhVien)-[:HOCPT]->(tr) RETURN s2.hoTen, tr.tenTruong', ma = maSV).data()"
   ]
  },
  {
   "cell_type": "markdown",
   "metadata": {},
   "source": [
    "Câu e"
   ]
  },
  {
   "cell_type": "code",
   "execution_count": 14,
   "metadata": {},
   "outputs": [
    {
     "name": "stdout",
     "output_type": "stream",
     "text": [
      "'Gia Lai'\t[{'SL': 12, 'nganh': 'Giáo dục Tiểu học'}, {'SL': 5, 'nganh': 'Sư phạm Tiếng Anh'}, {'SL': 4, 'nganh': 'Sư phạm Toán học'}, {'SL': 6, 'nganh': 'Kế toán'}, {'SL': 9, 'nganh': 'Luật'}, {'SL': 2, 'nganh': 'Kỹ thuật xây dựng'}, {'SL': 11, 'nganh': 'Công nghệ thông tin'}, {'SL': 1, 'nganh': 'Kỹ thuật phần mềm'}, {'SL': 4, 'nganh': 'Công tác xã hội'}, {'SL': 2, 'nganh': 'Đông phương học'}, {'SL': 14, 'nganh': 'Ngôn ngữ Anh'}, {'SL': 8, 'nganh': 'Quản lý nhà nước'}, {'SL': 2, 'nganh': 'Quản lý tài nguyên và môi trường'}, {'SL': 7, 'nganh': 'Quản trị dịch vụ du lịch và lữ hành'}, {'SL': 1, 'nganh': 'Quản trị khách sạn'}, {'SL': 2, 'nganh': 'Tâm lý học giáo dục'}, {'SL': 1, 'nganh': 'Văn học'}, {'SL': 1, 'nganh': 'Việt Nam học'}]\n",
      "'Quảng Ngãi'\t[{'SL': 6, 'nganh': 'Giáo dục Tiểu học'}, {'SL': 1, 'nganh': 'Sư phạm Ngữ văn'}, {'SL': 2, 'nganh': 'Sư phạm Tiếng Anh'}, {'SL': 1, 'nganh': 'Sư phạm Toán học'}, {'SL': 4, 'nganh': 'Kế toán'}, {'SL': 6, 'nganh': 'Luật'}, {'SL': 1, 'nganh': 'Kỹ thuật xây dựng'}, {'SL': 2, 'nganh': 'Công tác xã hội'}, {'SL': 9, 'nganh': 'Ngôn ngữ Anh'}, {'SL': 2, 'nganh': 'Quản lý nhà nước'}, {'SL': 1, 'nganh': 'Quản lý tài nguyên và môi trường'}, {'SL': 4, 'nganh': 'Quản trị dịch vụ du lịch và lữ hành'}, {'SL': 3, 'nganh': 'Quản trị khách sạn'}, {'SL': 2, 'nganh': 'Văn học'}, {'SL': 17, 'nganh': 'Ngôn ngữ Trung Quốc'}]\n",
      "'Bình Định'\t[{'SL': 33, 'nganh': 'Giáo dục Tiểu học'}, {'SL': 23, 'nganh': 'Giáo dục Tiểu học'}, {'SL': 7, 'nganh': 'Sư phạm Ngữ văn'}, {'SL': 3, 'nganh': 'Sư phạm Ngữ văn'}, {'SL': 2, 'nganh': 'Sư phạm Sinh học'}, {'SL': 1, 'nganh': 'Sư phạm Sinh học'}, {'SL': 42, 'nganh': 'Sư phạm Tiếng Anh'}, {'SL': 36, 'nganh': 'Sư phạm Tiếng Anh'}, {'SL': 15, 'nganh': 'Sư phạm Toán học'}, {'SL': 11, 'nganh': 'Sư phạm Toán học'}, {'SL': 122, 'nganh': 'Kế toán'}, {'SL': 115, 'nganh': 'Kế toán'}, {'SL': 7, 'nganh': 'Kiểm toán'}, {'SL': 7, 'nganh': 'Kiểm toán'}, {'SL': 57, 'nganh': 'Luật'}, {'SL': 52, 'nganh': 'Luật'}, {'SL': 53, 'nganh': 'Kỹ thuật xây dựng'}, {'SL': 50, 'nganh': 'Kỹ thuật xây dựng'}, {'SL': 131, 'nganh': 'Công nghệ thông tin'}, {'SL': 121, 'nganh': 'Công nghệ thông tin'}, {'SL': 11, 'nganh': 'Kỹ thuật phần mềm'}, {'SL': 11, 'nganh': 'Kỹ thuật phần mềm'}, {'SL': 14, 'nganh': 'Nông học'}, {'SL': 12, 'nganh': 'Nông học'}, {'SL': 20, 'nganh': 'Toán ứng dụng'}, {'SL': 20, 'nganh': 'Toán ứng dụng'}, {'SL': 6, 'nganh': 'Công tác xã hội'}, {'SL': 2, 'nganh': 'Công tác xã hội'}, {'SL': 23, 'nganh': 'Đông phương học'}, {'SL': 20, 'nganh': 'Đông phương học'}, {'SL': 160, 'nganh': 'Ngôn ngữ Anh'}, {'SL': 149, 'nganh': 'Ngôn ngữ Anh'}, {'SL': 12, 'nganh': 'Quản lý nhà nước'}, {'SL': 8, 'nganh': 'Quản lý nhà nước'}, {'SL': 14, 'nganh': 'Quản lý tài nguyên và môi trường'}, {'SL': 14, 'nganh': 'Quản lý tài nguyên và môi trường'}, {'SL': 100, 'nganh': 'Quản trị dịch vụ du lịch và lữ hành'}, {'SL': 92, 'nganh': 'Quản trị dịch vụ du lịch và lữ hành'}, {'SL': 180, 'nganh': 'Quản trị khách sạn'}, {'SL': 160, 'nganh': 'Quản trị khách sạn'}, {'SL': 6, 'nganh': 'Tâm lý học giáo dục'}, {'SL': 5, 'nganh': 'Tâm lý học giáo dục'}, {'SL': 11, 'nganh': 'Văn học'}, {'SL': 10, 'nganh': 'Văn học'}, {'SL': 22, 'nganh': 'Việt Nam học'}, {'SL': 20, 'nganh': 'Việt Nam học'}, {'SL': 47, 'nganh': 'Ngôn ngữ Trung Quốc'}, {'SL': 43, 'nganh': 'Ngôn ngữ Trung Quốc'}]\n",
      "'Nghệ An'\t[{'SL': 1, 'nganh': 'Sư phạm Ngữ văn'}, {'SL': 1, 'nganh': 'Sư phạm Toán học'}, {'SL': 1, 'nganh': 'Kế toán'}, {'SL': 1, 'nganh': 'Công tác xã hội'}, {'SL': 3, 'nganh': 'Ngôn ngữ Anh'}, {'SL': 1, 'nganh': 'Quản trị dịch vụ du lịch và lữ hành'}, {'SL': 1, 'nganh': 'Tâm lý học giáo dục'}]\n",
      "'Quảng Nam'\t[{'SL': 2, 'nganh': 'Kế toán'}, {'SL': 3, 'nganh': 'Công nghệ thông tin'}, {'SL': 3, 'nganh': 'Quản trị khách sạn'}]\n",
      "'Ninh Thuận'\t[{'SL': 1, 'nganh': 'Kế toán'}, {'SL': 1, 'nganh': 'Luật'}, {'SL': 1, 'nganh': 'Đông phương học'}, {'SL': 1, 'nganh': 'Quản trị khách sạn'}]\n",
      "'Tp. Hồ Chí Minh'\t[{'SL': 1, 'nganh': 'Luật'}]\n",
      "'Bà Rịa-Vũng Tàu'\t[{'SL': 1, 'nganh': 'Kỹ thuật phần mềm'}, {'SL': 1, 'nganh': 'Quản trị khách sạn'}]\n",
      "'Lâm Đồng'\t[{'SL': 1, 'nganh': 'Ngôn ngữ Anh'}, {'SL': 1, 'nganh': 'Ngôn ngữ Trung Quốc'}]\n",
      "'Khánh Hòa'\t[{'SL': 1, 'nganh': 'Quản lý nhà nước'}]\n"
     ]
    }
   ],
   "source": [
    "data = g.run('MATCH (n:Nganh)-[:HOCDH]-(s:SinhVien)-[:QUEQUAN]-(t:Tinh) WITH t, n, COUNT(s) AS SL RETURN t.tenTinh, COLLECT({nganh: n.tenNganh, SL: SL}) AS DS')\n",
    "\n",
    "for r in data:\n",
    "   print(r)"
   ]
  },
  {
   "cell_type": "markdown",
   "metadata": {},
   "source": [
    "Câu f"
   ]
  },
  {
   "cell_type": "code",
   "execution_count": 13,
   "metadata": {},
   "outputs": [
    {
     "name": "stdout",
     "output_type": "stream",
     "text": [
      "''\t3\n",
      "'A'\t1\n",
      "'Biện'\t1\n",
      "'Buì'\t1\n",
      "'BÙI'\t5\n",
      "'Bùi'\t54\n",
      "'Bạch'\t2\n",
      "'Cao'\t15\n",
      "'Chu'\t1\n",
      "'Chung'\t1\n",
      "'Châu'\t6\n",
      "'Cil'\t1\n",
      "'Cù'\t2\n",
      "'Diệp'\t4\n",
      "'Dư'\t1\n",
      "'Dương'\t24\n",
      "'H'\t1\n",
      "\"H'\"\t1\n",
      "'HUỲNH'\t3\n",
      "'Hiao'\t1\n",
      "'Hoàng'\t10\n",
      "'Huỳnh'\t97\n",
      "'HỒ'\t1\n",
      "'Hà'\t21\n",
      "'Hàn'\t2\n",
      "'Hàng'\t1\n",
      "'Hán'\t1\n",
      "'Hô'\t1\n",
      "'HỒ'\t3\n",
      "'Hồ'\t47\n",
      "'Hứa'\t2\n",
      "'Jang'\t1\n",
      "'KHỔNG'\t2\n",
      "'KIỀU'\t1\n",
      "'KPÁ'\t1\n",
      "'KPĂ'\t2\n",
      "'KSOR'\t1\n",
      "'KSor'\t1\n",
      "'Khúc'\t1\n",
      "'Khưu'\t1\n",
      "'Khổng'\t1\n",
      "'Kiều'\t4\n",
      "'Kpuih'\t1\n",
      "'Kpá'\t1\n",
      "'Kpă'\t1\n",
      "'Ksor'\t6\n",
      "'Ksơr'\t2\n",
      "'La'\t2\n",
      "'LÊ'\t8\n",
      "'Lâm'\t7\n",
      "'Lã'\t1\n",
      "'Lê'\t209\n",
      "'Lý'\t5\n",
      "'LƯU'\t1\n",
      "'Lư'\t1\n",
      "'Lưu'\t8\n",
      "'Lương'\t6\n",
      "'Lữ'\t3\n",
      "'MAI'\t1\n",
      "'Mai'\t23\n",
      "'Man'\t2\n",
      "'Mang'\t2\n",
      "'Mạc'\t1\n",
      "'NAY'\t2\n",
      "'NGUYỄN'\t18\n",
      "'NGÔ'\t1\n",
      "'NGỤY'\t1\n",
      "'NHỮ'\t1\n",
      "'Nay'\t4\n",
      "'Nguyen'\t1\n",
      "'Nguyễn'\t2\n",
      "'Nguyễn'\t726\n",
      "'Ngô'\t29\n",
      "'Nàng'\t1\n",
      "'Nông'\t1\n",
      "'PHAN'\t2\n",
      "'PHẠM'\t4\n",
      "'Pham'\t1\n",
      "'Phan'\t84\n",
      "'Phùng'\t7\n",
      "'Phạm'\t113\n",
      "'Puih'\t1\n",
      "'Rah'\t1\n",
      "'Rcơm'\t1\n",
      "'Rmah'\t1\n",
      "'RƠ'\t2\n",
      "'Rơ'\t9\n",
      "'SUN'\t1\n",
      "'Siu'\t5\n",
      "'Sô'\t1\n",
      "'TRẦN'\t1\n",
      "'TRƯƠNG'\t3\n",
      "'TRẦN'\t9\n",
      "'Thao'\t1\n",
      "'Thái'\t10\n",
      "'Thân'\t1\n",
      "'Thới'\t2\n",
      "'Tiếu'\t1\n",
      "'Trà'\t1\n",
      "'Trần'\t1\n",
      "'Trình'\t1\n",
      "'Trương'\t53\n",
      "'Trảo'\t1\n",
      "'Trần'\t216\n",
      "'Trịnh'\t9\n",
      "'TÔ'\t1\n",
      "'Tô'\t9\n",
      "'Tôn'\t3\n",
      "'Tăng'\t2\n",
      "'TẠ'\t1\n",
      "'Tạ'\t10\n",
      "'Tống'\t3\n",
      "'Từ'\t4\n",
      "'Ung'\t2\n",
      "'VÕ'\t5\n",
      "'Võ'\t122\n",
      "'Văn'\t6\n",
      "'VŨ'\t1\n",
      "'Vũ'\t12\n",
      "'Vương'\t3\n",
      "'Y'\t10\n",
      "'chế'\t1\n",
      "'hoàng'\t1\n",
      "'huỳnh'\t1\n",
      "'hữu'\t1\n",
      "'lê'\t2\n",
      "'nguyễn'\t3\n",
      "'phạm'\t1\n",
      "'trần'\t1\n",
      "'võ'\t2\n",
      "'ÂU'\t1\n",
      "'ĐINH'\t1\n",
      "'ĐOÀN'\t1\n",
      "'Đinh'\t43\n",
      "'Đoàn'\t21\n",
      "'ĐÀO'\t1\n",
      "'Đàm'\t1\n",
      "'Đào'\t15\n",
      "'ĐẶNG'\t1\n",
      "'Đặng'\t54\n",
      "'Đồng'\t3\n",
      "'ĐỖ'\t1\n",
      "'Đỗ'\t54\n",
      "'đặng'\t1\n"
     ]
    }
   ],
   "source": [
    "data = g.run('MATCH (s:SinhVien) WITH split(s.hoTen, \" \")[0] AS Ho, COUNT(s) AS SL RETURN Ho, SL ORDER BY Ho')\n",
    "for r in data:\n",
    "   print(r)"
   ]
  }
 ],
 "metadata": {
  "kernelspec": {
   "display_name": "Python 3",
   "language": "python",
   "name": "python3"
  },
  "language_info": {
   "codemirror_mode": {
    "name": "ipython",
    "version": 3
   },
   "file_extension": ".py",
   "mimetype": "text/x-python",
   "name": "python",
   "nbconvert_exporter": "python",
   "pygments_lexer": "ipython3",
   "version": "3.11.5"
  }
 },
 "nbformat": 4,
 "nbformat_minor": 2
}
